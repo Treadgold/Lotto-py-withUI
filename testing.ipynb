{
 "cells": [
  {
   "cell_type": "code",
   "execution_count": 7,
   "metadata": {},
   "outputs": [
    {
     "name": "stdout",
     "output_type": "stream",
     "text": [
      "[36 18 27 24 39 38]\n"
     ]
    }
   ],
   "source": [
    "import numpy as np\n",
    "balls = np.array(range(1, 41))\n",
    "print(np.random.choice(balls, 6, replace=False))"
   ]
  },
  {
   "cell_type": "code",
   "execution_count": null,
   "metadata": {},
   "outputs": [],
   "source": [
    "import pandas as pd\n",
    "import json\n",
    "\n",
    "with open('rows.json') as f:\n",
    "    file = json.load(f)\n",
    "\n",
    "data = pd.DataFrame(file['data'])\n",
    "print(data)\n",
    "\n"
   ]
  },
  {
   "cell_type": "code",
   "execution_count": 115,
   "metadata": {},
   "outputs": [
    {
     "name": "stdout",
     "output_type": "stream",
     "text": [
      "0       11 21 27 36 62 24\n",
      "1       14 18 36 49 67 18\n",
      "2       18 31 36 43 47 20\n",
      "3       06 24 30 53 56 19\n",
      "4       05 18 23 40 50 18\n",
      "              ...        \n",
      "1415    18 43 48 60 69 14\n",
      "1416    04 08 46 47 48 05\n",
      "1417    24 26 39 47 57 23\n",
      "1418    04 14 33 39 61 03\n",
      "1419    06 15 22 42 47 26\n",
      "Name: 9, Length: 1420, dtype: object\n"
     ]
    }
   ],
   "source": [
    "print((data[9]))"
   ]
  },
  {
   "cell_type": "code",
   "execution_count": 224,
   "metadata": {},
   "outputs": [],
   "source": [
    "h = ([],[])\n",
    "count = 0\n",
    "for i in data[9]:\n",
    "    if data[10][count] != None:\n",
    "        h[0].append(count)\n",
    "        k = list([int(i) for i in i.split(' ')])\n",
    "        # print(type(k))\n",
    "        # l = data[10][count]\n",
    "        # l = int(l)\n",
    "        # print(type(l), l)\n",
    "        # k.append(l)\n",
    "        k.pop()\n",
    "        h[1].append(k)\n",
    "    count += 1\n"
   ]
  },
  {
   "cell_type": "code",
   "execution_count": 225,
   "metadata": {},
   "outputs": [
    {
     "name": "stdout",
     "output_type": "stream",
     "text": [
      "<class 'list'>\n"
     ]
    }
   ],
   "source": [
    "print(type(h[1]))\n",
    "\n",
    "arr = np.array(h[1])"
   ]
  },
  {
   "cell_type": "code",
   "execution_count": 218,
   "metadata": {},
   "outputs": [
    {
     "name": "stdout",
     "output_type": "stream",
     "text": [
      "69\n"
     ]
    }
   ],
   "source": [
    "print(arr.max())"
   ]
  },
  {
   "cell_type": "code",
   "execution_count": 226,
   "metadata": {},
   "outputs": [
    {
     "name": "stdout",
     "output_type": "stream",
     "text": [
      "dict_values([87, 89, 91, 81, 83, 89, 90, 91, 82, 100, 94, 102, 83, 97, 89, 95, 94, 93, 88, 101, 106, 99, 100, 85, 82, 65, 97, 105, 81, 92, 87, 113, 93, 78, 76, 108, 98, 91, 111, 93, 102, 85, 79, 91, 97, 76, 100, 90, 84, 90, 89, 98, 94, 96, 89, 85, 90, 81, 103, 54, 81, 70, 74, 66, 55, 55, 63, 61, 73])\n"
     ]
    },
    {
     "data": {
      "text/plain": [
       "<BarContainer object of 69 artists>"
      ]
     },
     "execution_count": 226,
     "metadata": {},
     "output_type": "execute_result"
    },
    {
     "data": {
      "image/png": "[encoded data removed]",
      "text/plain": [
       "<Figure size 640x480 with 1 Axes>"
      ]
     },
     "metadata": {},
     "output_type": "display_data"
    }
   ],
   "source": [
    "counts = {i:0 for i in range(1, 70)}\n",
    "\n",
    "for i in arr:\n",
    "    for j in i:\n",
    "        counts[j] += 1\n",
    "print(counts.values())\n",
    "\n",
    "import matplotlib.pyplot as plt\n",
    "plt.bar(counts.keys(), counts.values())"
   ]
  },
  {
   "cell_type": "code",
   "execution_count": 168,
   "metadata": {},
   "outputs": [
    {
     "name": "stdout",
     "output_type": "stream",
     "text": [
      "(1210, 7)\n"
     ]
    },
    {
     "data": {
      "image/png": "[encoded data removed]",
      "text/plain": [
       "<Figure size 640x480 with 1 Axes>"
      ]
     },
     "metadata": {},
     "output_type": "display_data"
    }
   ],
   "source": [
    "print(arr.shape)\n",
    "\n",
    "import matplotlib.pyplot as plt\n",
    "\n",
    "\n",
    "plt.imshow(arr[0:40], cmap='hot', interpolation='nearest')\n",
    "plt.show()"
   ]
  },
  {
   "cell_type": "code",
   "execution_count": 34,
   "metadata": {},
   "outputs": [
    {
     "name": "stdout",
     "output_type": "stream",
     "text": [
      "8088\n",
      "80\n",
      "[229, 293, 320, 323, 403, 520, 709, 871, 987, 1094, 1138, 1188, 1371, 1391, 1457, 1490, 1546, 1569, 1620, 1746, 1929, 2072, 2112, 2204, 2207, 2212, 2239, 2265, 2830, 2850, 2977, 3025, 3148, 3172, 3631, 3788, 3790, 3870, 3911, 3961, 3982, 4004, 4013, 4071, 4117, 4271, 4309, 4354, 4445, 4666, 4764, 4804, 4846, 4950, 4982, 5070, 5191, 5235, 5700, 5730, 5804, 5888, 6024, 6071, 6078, 6196, 6419, 6568, 6664, 6720, 7016, 7205, 7318, 7530, 7554, 7669, 7730, 7738, 7754, 8022, 8088, 8421, 8435, 8524, 8968, 8980, 9220, 9239, 9298, 9361, 9395, 9504, 9646, 9677, 9686, 9689, 9803, 9895, 9898, 9919, 9938]\n"
     ]
    }
   ],
   "source": [
    "import bisect\n",
    "import random\n",
    "\n",
    "j = random.sample(range(0, 10000), 100)\n",
    "\n",
    "\n",
    "a = random.randint(0, 10000)\n",
    "print(a)\n",
    "\n",
    "j.sort()\n",
    "\n",
    "#returns index of the first element that is greater than a\n",
    "idx = bisect.bisect(j, a)\n",
    "print(idx)\n",
    "\n",
    "# places a at the index\n",
    "j.insert(idx, a)\n",
    "\n",
    "print(j)\n"
   ]
  },
  {
   "cell_type": "code",
   "execution_count": 102,
   "metadata": {},
   "outputs": [
    {
     "name": "stdout",
     "output_type": "stream",
     "text": [
      "([12, 17, 13, 32, 9, 23], 2)\n"
     ]
    }
   ],
   "source": [
    "import random\n",
    "\n",
    "\n",
    "def get_numbers(max_value = 40, powerball = 10, number_of_balls_drawn = 6):\n",
    "        \n",
    "    # make list of numbers for main draw\n",
    "    balls = list(range(1, max_value + 1))\n",
    "\n",
    "    # make list of numbers for powerball\n",
    "    if powerball != 0:\n",
    "        powerball = list(range(1, powerball + 1))\n",
    "\n",
    "    # shuffle the balls\n",
    "    random.shuffle(balls)\n",
    "    \n",
    "    # take a sample of the balls\n",
    "    drawn_balls = balls[:number_of_balls_drawn]\n",
    "    \n",
    "    # shuffle the powerball\n",
    "    if powerball != 0:\n",
    "        random.shuffle(powerball)\n",
    "        drawn_powerball = powerball[0]\n",
    "        # if powerball is not 0, return both the main draw and the powerball as a tuple\n",
    "        final = (drawn_balls, drawn_powerball)\n",
    "        return final\n",
    "\n",
    "    #otherwise return just the main draw\n",
    "    return drawn_balls\n",
    "\n",
    "\n",
    "print(get_numbers())"
   ]
  },
  {
   "cell_type": "code",
   "execution_count": 103,
   "metadata": {},
   "outputs": [
    {
     "name": "stdout",
     "output_type": "stream",
     "text": [
      "0\n",
      "1\n",
      "2\n",
      "3\n",
      "0\n",
      "RUN executed\n",
      "1\n",
      "RUN executed\n",
      "2\n",
      "RUN executed\n",
      "3\n",
      "RUN executed\n",
      "STOP executed\n"
     ]
    },
    {
     "ename": "",
     "evalue": "",
     "output_type": "error",
     "traceback": [
      "\u001b[1;31mThe Kernel crashed while executing code in the the current cell or a previous cell. Please review the code in the cell(s) to identify a possible cause of the failure. Click <a href='https://aka.ms/vscodeJupyterKernelCrash'>here</a> for more info. View Jupyter <a href='command:jupyter.viewOutput'>log</a> for further details."
     ]
    }
   ],
   "source": [
    "#!/usr/bin/python\n",
    "#arraytest.py :-Testbed for Entry Matrix\n",
    "from tkinter import *\n",
    "\n",
    "class App:\n",
    "  def __init__(self, master):\n",
    "    global frame, InVal\n",
    "    frame = Frame(master)\n",
    "    frame.pack()\n",
    "    self.var_list = {}\n",
    "    for L in range(0, 4):\n",
    "      InVal=IntVar()\n",
    "      self.GetInt(frame, L, 0, InVal, L)\n",
    "      print (InVal.get())\n",
    "      self.var_list[L] = InVal # stick it into a dict with L as key\n",
    "\n",
    "    Button(frame, text='RUN ', command=self.RUN).grid(row=5, column=1)\n",
    "    Button(frame, text='STOP', command=self.STOP).grid(row=5, column=2)\n",
    "\n",
    "  def GetInt(self, frame, Line, Col, TextVal, InitialVal):\n",
    "    TextVal.set(str(InitialVal))\n",
    "    Entry(frame, textvariable=TextVal).grid(row=Line, column=Col)\n",
    "\n",
    "  def RUN(self):\n",
    "    for L in range(0, 4):\n",
    "      print (self.var_list[L].get()) # Now you've got something to reference\n",
    "      print ('RUN executed')\n",
    "\n",
    "  def STOP(self):\n",
    "    print ('STOP executed')\n",
    "    root.quit()\n",
    "\n",
    "root = Tk()\n",
    "root.wm_title('arraytest')\n",
    "app = App(root)\n",
    "root.mainloop()\n"
   ]
  },
  {
   "cell_type": "code",
   "execution_count": 16,
   "metadata": {},
   "outputs": [
    {
     "name": "stdout",
     "output_type": "stream",
     "text": [
      "[[[[1, 2], [3, 4, ['some', 'text']]], [[True, 5, 6, [0, ['like', 'just']]], [7, 8]]], [9], 'Michael', False, [8.54334]]\n",
      "\n",
      "New list is 18 elements long: \n",
      "[1, 2, 3, 4, 'some', 'text', True, 5, 6, 0, 'like', 'just', 7, 8, 9, 'Michael', False, 8.54334]\n"
     ]
    }
   ],
   "source": [
    "\n",
    "lst = [[[[1,2],[3,4,['some', 'text']]],[[True, 5,6, [0, ['like', 'just']]],[7,8]]],[9], \"Michael\", False, [8.54334]]\n",
    "\n",
    "print(lst)\n",
    "\n",
    "# recursively flatten list using 'yield from' to generate a new list \n",
    "def flatten_lists(lst):\n",
    "    for item in lst:\n",
    "        if isinstance(item, list):\n",
    "            yield from flatten_lists(item)\n",
    "        else:\n",
    "            yield item\n",
    "            \n",
    "new_list = list(flatten_lists(lst))\n",
    "\n",
    "print(f\"\\nNew list is {len(new_list)} elements long: \\n{new_list}\")"
   ]
  },
  {
   "cell_type": "code",
   "execution_count": 29,
   "metadata": {},
   "outputs": [
    {
     "name": "stdout",
     "output_type": "stream",
     "text": [
      "['good morning', 'music', 'instagram', 'On my Own', 'monster', 'Words dont come so easily', 'lead me right', 'Reach for Tomorrow', 'mariners song']\n"
     ]
    }
   ],
   "source": [
    "\n",
    "# 17.8. Exercises\n",
    "# My code works here, but not in the website\n",
    "# https://fopp.umsi.education/books/published/fopp/NestedData/Exercises.html\n",
    "\n",
    "d = ['good morning', 'hello', 'chair', 'python', ['music', 'flowers', 'facebook', 'instagram', 'snapchat', ['On my Own', 'monster', 'Words dont come so easily', 'lead me right']], 'Stressed Out', 'Pauver Coeur', 'Reach for Tomorrow', 'mariners song', 'Wonder sleeps here']\n",
    "\n",
    "def flatten_lists(lst):\n",
    "    for item in lst:\n",
    "        if isinstance(item, list):\n",
    "            yield from flatten_lists(item)\n",
    "        else:\n",
    "            yield item\n",
    "\n",
    "\n",
    "x = list(flatten_lists(d))\n",
    "m_list = []\n",
    "for item in x:\n",
    "    if \"m\" in item:\n",
    "        m_list.append(item)\n",
    "        \n",
    "\n",
    "\n",
    "print(m_list)"
   ]
  },
  {
   "attachments": {},
   "cell_type": "markdown",
   "metadata": {},
   "source": [
    "The nested dictionary, pokemon, shows the number of various Pokemon that each person has caught while playing Pokemon Go.\n",
    "\n",
    "Find the total number of rattatas, dittos, and pidgeys caught and assign to the variables r, d, and p respectively.\n",
    "\n",
    "Do not hardcode. Note: Be aware that not every trainer has caught a ditto."
   ]
  },
  {
   "cell_type": "code",
   "execution_count": 66,
   "metadata": {},
   "outputs": [
    {
     "name": "stdout",
     "output_type": "stream",
     "text": [
      "17\n"
     ]
    }
   ],
   "source": [
    "\n",
    "pokemon = {'Trainer1':\n",
    "          {'normal': {'rattatas':15, 'eevees': 2, 'ditto':1}, 'water': {'magikarps':3}, 'flying': {'zubats':8, 'pidgey': 12}},\n",
    "          'Trainer2':\n",
    "          {'normal': {'rattatas':25, 'eevees': 1}, 'water': {'magikarps':7}, 'flying': {'zubats':3, 'pidgey': 15}},\n",
    "          'Trainer3':\n",
    "          {'normal': {'rattatas':10, 'eevees': 3, 'ditto':2}, 'water': {'magikarps':2}, 'flying': {'zubats':3, 'pidgey': 20}},\n",
    "          'Trainer4':\n",
    "          {'normal': {'rattatas':17, 'eevees': 1}, 'water': {'magikarps':9}, 'flying': {'zubats':12, 'pidgey': 14}}}\n",
    "\n",
    "r, d, p, = 0, 0, 0\n",
    "\n",
    "# Find the total number of rattatas, dittos, and pidgeys caught and assign to the variables r, d, and p respectively.\n",
    "\n",
    "for trainer in pokemon:\n",
    "    if 'rattatas' in pokemon[trainer]['normal']:\n",
    "        r += pokemon[trainer]['normal']['rattatas']\n",
    "    if 'ditto' in pokemon[trainer]['normal']:\n",
    "        d += pokemon[trainer]['normal']['ditto']\n",
    "    if 'pidgey' in pokemon[trainer]['flying']:\n",
    "        p += pokemon[trainer]['flying']['pidgey']\n",
    "            \n",
    "print(pokemon[trainer]['normal']['rattatas'])\n"
   ]
  },
  {
   "attachments": {},
   "cell_type": "markdown",
   "metadata": {},
   "source": [
    "Below, we have provided a nested list called big_list.\n",
    "Use nested iteration to create a dictionary, word_counts, that contains all the words in big_list as keys, and the number of times they occur as values."
   ]
  },
  {
   "cell_type": "code",
   "execution_count": 76,
   "metadata": {},
   "outputs": [
    {
     "name": "stdout",
     "output_type": "stream",
     "text": [
      "{'one': 4, 'two': 4, 'seven': 4, 'eight': 4, 'nine': 2, 'four': 5, 'three': 3, 'five': 3, 'six': 3}\n"
     ]
    }
   ],
   "source": [
    "big_list = [[['one', 'two'], ['seven', 'eight']], [['nine', 'four'], ['three', 'one']], [['two', 'eight'], ['seven', 'four']], [['five', 'one'], ['four', 'two']], [['six', 'eight'], ['two', 'seven']], [['three', 'five'], ['one', 'six']], [['nine', 'eight'], ['five', 'four']], [['six', 'three'], ['four', 'seven']]]\n",
    "\n",
    "\n",
    "# flat_list = list(flatten_lists(big_list))\n",
    "\n",
    "# print(flat_list)\n",
    "# word_counts = {}\n",
    "# for word in flat_list:\n",
    "#     if word in word_counts:\n",
    "#         word_counts[word] += 1\n",
    "#     else:\n",
    "#         word_counts[word] = 1\n",
    "word_counts = {}\n",
    "\n",
    "for lst in big_list:\n",
    "    for list2 in lst:\n",
    "        for word in list2:\n",
    "            if word in word_counts:\n",
    "                word_counts[word] += 1\n",
    "            else:\n",
    "                word_counts[word] = 1\n",
    "\n",
    "print(word_counts)\n",
    "\n"
   ]
  },
  {
   "attachments": {},
   "cell_type": "markdown",
   "metadata": {},
   "source": [
    "Provided is a dictionary that contains pokemon go player data, where each player reveals the amount of candy each of their pokemon have.\n",
    "\n",
    "If you pooled all the data together, which pokemon has the highest number of candy? Assign that pokemon to the variable most_common_pokemon."
   ]
  },
  {
   "cell_type": "code",
   "execution_count": 105,
   "metadata": {},
   "outputs": [
    {
     "name": "stdout",
     "output_type": "stream",
     "text": [
      "Rattata\n"
     ]
    }
   ],
   "source": [
    "\n",
    "pokemon_go_data = {'bentspoon':\n",
    "                  {'Rattata': 203, 'Pidgey': 120, 'Drowzee': 89, 'Squirtle': 35, 'Pikachu': 3, 'Eevee': 34, 'Magikarp': 300, 'Paras': 38},\n",
    "                  'Laurne':\n",
    "                  {'Pidgey': 169, 'Rattata': 245, 'Squirtle': 9, 'Caterpie': 38, 'Weedle': 97, 'Pikachu': 6, 'Nidoran': 44, 'Clefairy': 15, 'Zubat': 79, 'Dratini': 4},\n",
    "                  'picklejarlid':\n",
    "                  {'Rattata': 32, 'Drowzee': 15, 'Nidoran': 4, 'Bulbasaur': 3, 'Pidgey': 56, 'Weedle': 21, 'Oddish': 18, 'Magmar': 6, 'Spearow': 14},\n",
    "                  'professoroak':\n",
    "                  {'Charmander': 11, 'Ponyta': 9, 'Rattata': 107, 'Belsprout': 29, 'Seel': 19, 'Pidgey': 93, 'Shellder': 43, 'Drowzee': 245, 'Tauros': 18, 'Lapras': 18}}\n",
    "collection = {}\n",
    "for trainer in pokemon_go_data:\n",
    "    for pokemon in pokemon_go_data[trainer]:\n",
    "        if pokemon in collection:\n",
    "            collection[pokemon] += pokemon_go_data[trainer][pokemon]\n",
    "        else:\n",
    "            collection[pokemon] = pokemon_go_data[trainer][pokemon]\n",
    "\n",
    "sorted_collection = sorted(collection.items(), key=lambda x: x[1], reverse=True)\n",
    "\n",
    "most_common_pokemon = sorted_collection[0][0]\n",
    "\n",
    "print(most_common_pokemon)"
   ]
  },
  {
   "cell_type": "code",
   "execution_count": 93,
   "metadata": {},
   "outputs": [
    {
     "name": "stdout",
     "output_type": "stream",
     "text": [
      "snake\n"
     ]
    }
   ],
   "source": [
    "# The variable nested contains a nested list. Assign ‘snake’ to the variable output using indexing.\n",
    "nested = [['dog', 'cat', 'horse'], ['frog', 'turtle', 'snake', 'gecko'], ['hamster', 'gerbil', 'rat', 'ferret']]\n",
    "\n",
    "output = nested[1][2]\n",
    "\n",
    "print(output)\n"
   ]
  },
  {
   "cell_type": "code",
   "execution_count": 1,
   "metadata": {},
   "outputs": [
    {
     "name": "stdout",
     "output_type": "stream",
     "text": [
      "<FileHandler e:\\Python_Projects\\Lotto-py\\logs.log (NOTSET)>\n",
      "['dog', 'cat', 'horse', 'frog', 'turtle', 'snake', 'gecko', 'hamster', 'gerbil', 'rat', 'ferret']\n"
     ]
    }
   ],
   "source": [
    "import logging\n",
    "logger = logging.getLogger()\n",
    "FileOutputHandler = logging.FileHandler('logs.log')\n",
    "logger.addHandler(FileOutputHandler)\n",
    "\n",
    "for h in logger.handlers:\n",
    "    print(h)\n",
    "\n",
    "\n",
    "\n",
    "def flatten_lists(lst):\n",
    "    for item in lst:\n",
    "        logging.debug(\"item: {}\".format(item))\n",
    "        if isinstance(item, list):\n",
    "            yield from flatten_lists(item)\n",
    "        else:\n",
    "            yield item\n",
    "\n",
    "nested = [['dog', 'cat', 'horse'], ['frog', 'turtle', 'snake', 'gecko'], ['hamster', 'gerbil', 'rat', 'ferret']]\n",
    "\n",
    "print(list(flatten_lists(nested)))"
   ]
  },
  {
   "cell_type": "code",
   "execution_count": null,
   "metadata": {},
   "outputs": [],
   "source": [
    "\n",
    "lst = [['apple', 'orange', 'banana'], [5, 6, 7, 8, 9.9, 10], ['green', 'yellow', 'purple', 'red']]\n",
    "\n",
    "#Test to see if 'yellow' is in the third list of lst. Save to variable ``yellow``\n",
    "yellow = 'yellow' in lst[2]\n",
    "\n",
    "#Test to see if 4 is in the second list of lst. Save to variable ``four``\n",
    "four = 4 in lst[1]\n",
    "\n",
    "#Test to see if 'orange' is in the first element of lst. Save to variable ``orange``\n",
    "orange = 'orange' in lst[0]\n"
   ]
  },
  {
   "cell_type": "code",
   "execution_count": 97,
   "metadata": {},
   "outputs": [],
   "source": [
    "\n",
    "L = [[5, 8, 7], ['hello', 'hi', 'hola'], [6.6, 1.54, 3.99], ['small', 'large']]\n",
    "\n",
    "# Test if 'hola' is in the list L. Save to variable name test1\n",
    "test1 = 'hola' in L\n",
    "\n",
    "# Test if [5, 8, 7] is in the list L. Save to variable name test2\n",
    "test2 = [5, 8, 7] in L\n",
    "\n",
    "# Test if 6.6 is in the third element of list L. Save to variable name test3\n",
    "test3 = 6.6 in L[2]"
   ]
  },
  {
   "cell_type": "code",
   "execution_count": 36,
   "metadata": {},
   "outputs": [],
   "source": [
    "# this is what they wanted\n",
    "\n",
    "d = ['good morning', 'hello', 'chair', 'python', ['music', 'flowers', 'facebook', 'instagram', 'snapchat', ['On my Own', 'monster', 'Words dont come so easily', 'lead me right']], 'Stressed Out', 'Pauver Coeur', 'Reach for Tomorrow', 'mariners song', 'Wonder sleeps here']\n",
    "\n",
    "m_list = []\n",
    "\n",
    "\n",
    "for i in d:\n",
    "    if isinstance(i, list):\n",
    "        for j in i:\n",
    "            if isinstance(j, list):\n",
    "                for k in j:\n",
    "                    if \"m\" in k:\n",
    "                        m_list.append(k)\n",
    "            else:\n",
    "                if \"m\" in j:\n",
    "                    m_list.append(j)\n",
    "    else:\n",
    "        if \"m\" in i:\n",
    "            m_list.append(i)"
   ]
  },
  {
   "cell_type": "code",
   "execution_count": 102,
   "metadata": {},
   "outputs": [
    {
     "name": "stdout",
     "output_type": "stream",
     "text": [
      "['Lochte', 'Bolt', 'Eaton', 'Dalton'] ['Phelps', 'Schooling', 'Ledecky', 'Franklin', 'Felix', 'Gardner', 'Biles', 'Douglas', 'Hamm', 'Raisman', 'Mikulak']\n"
     ]
    }
   ],
   "source": [
    "\n",
    "athletes = [['Phelps', 'Lochte', 'Schooling', 'Ledecky', 'Franklin'], ['Felix', 'Bolt', 'Gardner', 'Eaton'], ['Biles', 'Douglas', 'Hamm', 'Raisman', 'Mikulak', 'Dalton']]\n",
    "t = []\n",
    "other = []\n",
    "for lst in athletes:\n",
    "    for name in lst:\n",
    "        if 't' in name:\n",
    "            t.append(name)\n",
    "        else:\n",
    "            other.append(name)\n",
    "            \n",
    "print(t, other)"
   ]
  },
  {
   "cell_type": "code",
   "execution_count": 10,
   "metadata": {},
   "outputs": [
    {
     "name": "stdout",
     "output_type": "stream",
     "text": [
      "[<generator object flatten_lists at 0x000001992B6B0EB0>, 'hello', 'chair', 'python', 'music', 'flowers', 'facebook', 'instagram', 'snapchat', <generator object flatten_lists at 0x000001992B6B0F90>, 'monster', <generator object flatten_lists at 0x000001992B833040>, <generator object flatten_lists at 0x000001992B8330B0>, <generator object flatten_lists at 0x000001992B6B0C80>, <generator object flatten_lists at 0x000001992B6B0E40>, <generator object flatten_lists at 0x000001992B833120>, <generator object flatten_lists at 0x000001992B833190>, <generator object flatten_lists at 0x000001992B833200>]\n"
     ]
    }
   ],
   "source": [
    "print(temp_list)"
   ]
  },
  {
   "cell_type": "code",
   "execution_count": 1,
   "metadata": {},
   "outputs": [],
   "source": [
    "def infinite_sequence(start = 0, step = 1):\n",
    "    \n",
    "    count = start\n",
    "    \n",
    "    while count <= start + 1000:\n",
    "        yield count\n",
    "        count += step\n",
    "\n",
    "#Thanks all - Have a nice evening - Welcome Evelyn !\n"
   ]
  },
  {
   "cell_type": "code",
   "execution_count": 79,
   "metadata": {},
   "outputs": [
    {
     "data": {
      "text/plain": [
       "799"
      ]
     },
     "execution_count": 79,
     "metadata": {},
     "output_type": "execute_result"
    }
   ],
   "source": [
    "next(gen)"
   ]
  },
  {
   "cell_type": "code",
   "execution_count": 31,
   "metadata": {},
   "outputs": [],
   "source": [
    "gen = infinite_sequence(0, 17)"
   ]
  },
  {
   "cell_type": "code",
   "execution_count": 40,
   "metadata": {},
   "outputs": [
    {
     "name": "stdout",
     "output_type": "stream",
     "text": [
      "hello\n",
      "None hello\n",
      "hello\n",
      "None None\n"
     ]
    }
   ],
   "source": [
    "print(print(print('hello'), 'hello'), print('hello'))"
   ]
  },
  {
   "cell_type": "code",
   "execution_count": 34,
   "metadata": {},
   "outputs": [
    {
     "name": "stdout",
     "output_type": "stream",
     "text": [
      "11\n",
      "12\n",
      "13\n",
      "14\n",
      "15\n",
      "16\n",
      "17\n",
      "18\n",
      "19\n",
      "20\n",
      "21\n",
      "22\n",
      "23\n",
      "24\n",
      "25\n",
      "26\n",
      "27\n",
      "28\n",
      "29\n",
      "30\n",
      "31\n",
      "32\n",
      "33\n",
      "34\n",
      "35\n",
      "36\n",
      "37\n",
      "38\n",
      "39\n",
      "40\n",
      "41\n",
      "42\n",
      "43\n",
      "44\n",
      "45\n",
      "46\n",
      "47\n",
      "48\n",
      "49\n",
      "50\n",
      "51\n",
      "52\n",
      "53\n",
      "54\n",
      "55\n",
      "56\n",
      "57\n",
      "58\n",
      "59\n",
      "60\n",
      "61\n",
      "62\n",
      "63\n",
      "64\n",
      "65\n",
      "66\n",
      "67\n",
      "68\n",
      "69\n",
      "70\n",
      "71\n",
      "72\n",
      "73\n",
      "74\n",
      "75\n",
      "76\n",
      "77\n",
      "78\n",
      "79\n",
      "80\n",
      "81\n",
      "82\n",
      "83\n",
      "84\n",
      "85\n",
      "86\n",
      "87\n",
      "88\n",
      "89\n",
      "90\n",
      "91\n",
      "92\n",
      "93\n",
      "94\n",
      "95\n",
      "96\n",
      "97\n",
      "98\n",
      "99\n",
      "100\n"
     ]
    }
   ],
   "source": [
    "for item in gen2:\n",
    "    print(item)"
   ]
  },
  {
   "cell_type": "code",
   "execution_count": 51,
   "metadata": {},
   "outputs": [
    {
     "data": {
      "text/plain": [
       "'126,886,932,185,884,164,103,433,389,335,161,480,802,865,516,174,545,192,198,801,894,375,214,704,230,400,000,000,000,000'"
      ]
     },
     "execution_count": 51,
     "metadata": {},
     "output_type": "execute_result"
    }
   ],
   "source": [
    "\n",
    "def factorial(number):\n",
    "    fact = number\n",
    "    for i in range(number-1, 1, -1):\n",
    "        fact = fact * (i)\n",
    "    return fact\n",
    "\n",
    "f'{factorial(64):,}'\n"
   ]
  },
  {
   "cell_type": "code",
   "execution_count": 216,
   "metadata": {},
   "outputs": [],
   "source": [
    "def fib():\n",
    "    a, b = 0, 1\n",
    "    while True:\n",
    "        yield a\n",
    "        a, b = b, a + b"
   ]
  },
  {
   "cell_type": "code",
   "execution_count": 217,
   "metadata": {},
   "outputs": [],
   "source": [
    "x = fib()\n",
    "\n"
   ]
  },
  {
   "cell_type": "code",
   "execution_count": 22,
   "metadata": {},
   "outputs": [
    {
     "name": "stdout",
     "output_type": "stream",
     "text": [
      "[['a', 'b'], 4]\n"
     ]
    }
   ],
   "source": [
    "lst = [1, 2, 3, ['a', 'b'], 4, 5, 6]\n",
    "\n",
    "print(lst[3:5])\n",
    "\n",
    "\n"
   ]
  },
  {
   "cell_type": "code",
   "execution_count": 255,
   "metadata": {},
   "outputs": [
    {
     "data": {
      "text/plain": [
       "24157817"
      ]
     },
     "execution_count": 255,
     "metadata": {},
     "output_type": "execute_result"
    }
   ],
   "source": [
    "next(x)"
   ]
  },
  {
   "cell_type": "code",
   "execution_count": 52,
   "metadata": {},
   "outputs": [
    {
     "data": {
      "text/plain": [
       "True"
      ]
     },
     "execution_count": 52,
     "metadata": {},
     "output_type": "execute_result"
    }
   ],
   "source": [
    "# python function to generate random color jpg images and show them in a window\n",
    "\n",
    "\n"
   ]
  },
  {
   "cell_type": "code",
   "execution_count": null,
   "metadata": {},
   "outputs": [],
   "source": [
    "from dataclasses import dataclass\n",
    "import pandas as pd\n",
    "\n",
    "\n",
    "\n",
    "@dataclass\n",
    "class Occupation:\n",
    "    "
   ]
  }
 ],
 "metadata": {
  "kernelspec": {
   "display_name": "base",
   "language": "python",
   "name": "python3"
  },
  "language_info": {
   "codemirror_mode": {
    "name": "ipython",
    "version": 3
   },
   "file_extension": ".py",
   "mimetype": "text/x-python",
   "name": "python",
   "nbconvert_exporter": "python",
   "pygments_lexer": "ipython3",
   "version": "3.9.13"
  },
  "orig_nbformat": 4,
  "vscode": {
   "interpreter": {
    "hash": "12d738f96725d1c1f433a1d40c5369c2dd6b861cec3a8aa29acd662c91ac2528"
   }
  }
 },
 "nbformat": 4,
 "nbformat_minor": 2
}
